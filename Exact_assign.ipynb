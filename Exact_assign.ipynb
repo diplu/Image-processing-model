{
 "cells": [
  {
   "cell_type": "code",
   "execution_count": null,
   "metadata": {},
   "outputs": [],
   "source": [
    "import cv2\n",
    "import numpy as np\n",
    "import pandas as pd\n",
    "import matplotlib.pyplot as plt\n",
    "%matplotlib inline\n",
    "import os\n",
    "import random\n",
    "import gc\n",
    "asset1_dir='../Videos/asset1'\n",
    "asset2_dir='../Videos/asset2'\n",
    "\n",
    "\n",
    "asset1_p=['../Videos/asset1/{}'.format(i) for i in os.listdir(asset1_dir) if 'p' in i]\n",
    "asset2_q=['../Videos/asset1/{}'.format(i) for i in os.listdir(asset1_dir) if 'q' in i]\n",
    "\n",
    "test_pq=['../Videos/asset2/{}'.format(i) for i in os.listdir(asset2_dir)]\n",
    "\n",
    "asset_img=asset1_p[:5]+asset2_q[:5]\n",
    "\n",
    "random.shuffle(asset_img)\n"
   ]
  },
  {
   "cell_type": "code",
   "execution_count": null,
   "metadata": {
    "scrolled": true
   },
   "outputs": [],
   "source": [
    "import matplotlib.image as mpimg\n",
    "\n",
    "for ima in asset_img[0:5]:\n",
    "    img=mpimg.imread(ima)\n",
    "    imgplot=plt.imshow(img)\n",
    "    plt.show()"
   ]
  },
  {
   "cell_type": "code",
   "execution_count": null,
   "metadata": {},
   "outputs": [],
   "source": [
    "nrows=150\n",
    "ncolumns=150\n",
    "chennels=3\n",
    "\n",
    "def pro_image(list_image):\n",
    "    X=[]\n",
    "    y=[]\n",
    "    \n",
    "    for image in list_image:\n",
    "        X.append(cv2.resize(cv2.imread(image,cv2.IMREAD_COLOR),(nrows,ncolumns),interpolation=cv2.INTER_CUBIC))\n",
    "        if 'p'in images:\n",
    "            y.append(1)\n",
    "        elif 'q' in images:\n",
    "            y.append(0)\n",
    "    return X,y"
   ]
  },
  {
   "cell_type": "code",
   "execution_count": null,
   "metadata": {},
   "outputs": [],
   "source": [
    "plt.figure(figsize=(20,10))\n",
    "columns=5\n",
    "for i in range(columns):\n",
    "    plt.subplot(5/columns+1,columns,i+1)\n",
    "    plt.imshow(X[i])"
   ]
  }
 ],
 "metadata": {
  "kernelspec": {
   "display_name": "Python 2",
   "language": "python",
   "name": "python2"
  },
  "language_info": {
   "codemirror_mode": {
    "name": "ipython",
    "version": 2
   },
   "file_extension": ".py",
   "mimetype": "text/x-python",
   "name": "python",
   "nbconvert_exporter": "python",
   "pygments_lexer": "ipython2",
   "version": "2.7.16"
  }
 },
 "nbformat": 4,
 "nbformat_minor": 2
}
